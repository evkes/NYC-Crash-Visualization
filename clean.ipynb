{
 "cells": [
  {
   "cell_type": "code",
   "execution_count": 7,
   "metadata": {},
   "outputs": [
    {
     "name": "stderr",
     "output_type": "stream",
     "text": [
      "C:\\Users\\evkes\\AppData\\Local\\Temp\\ipykernel_5908\\414666474.py:5: DtypeWarning: Columns (3) have mixed types. Specify dtype option on import or set low_memory=False.\n",
      "  df = pd.read_csv(file_path)\n"
     ]
    }
   ],
   "source": [
    "import pandas as pd\n",
    "\n",
    "# Load the data from the CSV file\n",
    "file_path = r'C:\\Users\\evkes\\OneDrive\\Desktop\\CPSC 4430 TEMP\\NYC-Crash-Visualization\\cleaned_crash_data_zipc.csv'  \n",
    "df = pd.read_csv(file_path)\n",
    "\n",
    "# Convert the 'CRASH DATE' column to datetime\n",
    "df['CRASH DATE'] = pd.to_datetime(df['CRASH DATE'])\n",
    "\n",
    "# Filter the DataFrame to include only rows from the year 2022\n",
    "df_filtered = df[df['CRASH DATE'].dt.year == 2022]\n",
    "\n",
    "# Remove the 'COLLISION_ID' column\n",
    "df_filtered = df_filtered.drop(columns=['COLLISION_ID'])\n",
    "\n",
    "# List of vehicle types to filter out\n",
    "vehicle_types = [\n",
    "    '', 'Sedan', 'Station wagon', 'Passenger vehicle', \n",
    "    'Sport utility vehicle / Mini van', 'Taxi', 'Pick-up truck', \n",
    "    'NYC/NYPD Service Vehicle', 'Bike', 'Bus', 'Box truck', 'Van', \n",
    "    'E-bike/E-scooter', '4-Wheel Delivery Vehicle', 'Motorcycle', \n",
    "    '6+-Wheel Delivery Vehicle', 'Post Office Truck', \n",
    "    'Tractor truck diesel', 'Ambulance', 'Dump', 'Convertible'\n",
    "]\n",
    "\n",
    "# Filter out rows where either 'VEHICLE TYPE CODE 1' or 'VEHICLE TYPE CODE 2' matches the specified types\n",
    "df_filtered = df_filtered[df_filtered['VEHICLE TYPE CODE 1'].isin(vehicle_types) & \n",
    "                          df_filtered['VEHICLE TYPE CODE 2'].isin(vehicle_types)]\n",
    "\n",
    "# Save the filtered DataFrame back to a CSV file\n",
    "output_file_path = r'C:\\Users\\evkes\\OneDrive\\Desktop\\CPSC 4430 TEMP\\NYC-Crash-Visualization\\cleaned_crash_data_zipc.csv'\n",
    "df_filtered.to_csv(output_file_path, index=False)\n"
   ]
  },
  {
   "cell_type": "code",
   "execution_count": 9,
   "metadata": {},
   "outputs": [],
   "source": [
    "import pandas as pd\n",
    "\n",
    "# Load the data from the CSV file\n",
    "file_path = r'C:\\Users\\evkes\\OneDrive\\Desktop\\CPSC 4430 TEMP\\NYC-Crash-Visualization\\cleaned_crash_data_zipc.csv'  \n",
    "df = pd.read_csv(file_path)\n",
    "\n",
    "# Calculate the center point of the LONGITUDE values\n",
    "center_longitude = df['LONGITUDE'].mean()\n",
    "\n",
    "# Flip the LONGITUDE values about their center point\n",
    "df['LONGITUDE'] = center_longitude - (df['LONGITUDE'] - center_longitude)\n",
    "\n",
    "# Save the updated DataFrame back to the CSV file\n",
    "df.to_csv(file_path, index=False)\n"
   ]
  },
  {
   "cell_type": "code",
   "execution_count": 2,
   "metadata": {},
   "outputs": [],
   "source": [
    "import pandas as pd\n",
    "import numpy as np  \n",
    "\n",
    "# Load the data from the CSV file\n",
    "file_path = r'C:\\Users\\evkes\\OneDrive\\Desktop\\CPSC 4430 TEMP\\NYC-Crash-Visualization\\cleaned_crash_data_zipc.csv'  \n",
    "df_filtered= pd.read_csv(file_path)\n",
    "\n",
    "# List of vehicle types\n",
    "veh_types = [\n",
    "    \"Sedan\", \"Station wagon\", \"Sport utility vehicle / Mini van\", \"Bike\",\n",
    "    \"E-bike/E-scooter\", \"Box truck\", \"Bus\", \"Pick-up truck\", \"Taxi\", \n",
    "    \"Motorcycle\", \"Ambulance\"\n",
    "]\n",
    "\n",
    "# Update vehicle type columns to 'Other' if they do not match one of the specified types\n",
    "df_filtered['VEHICLE TYPE CODE 1'] = np.where(df_filtered['VEHICLE TYPE CODE 1'].isin(veh_types), \n",
    "                                              df_filtered['VEHICLE TYPE CODE 1'], 'Other')\n",
    "df_filtered['VEHICLE TYPE CODE 2'] = np.where(df_filtered['VEHICLE TYPE CODE 2'].isin(veh_types), \n",
    "                                              df_filtered['VEHICLE TYPE CODE 2'], 'Other')\n",
    "\n",
    "# Save the filtered DataFrame back to a CSV file\n",
    "output_file_path = r'C:\\Users\\evkes\\OneDrive\\Desktop\\CPSC 4430 TEMP\\NYC-Crash-Visualization\\cleaned_crash_data_zipc.csv'\n",
    "df_filtered.to_csv(output_file_path, index=False)\n"
   ]
  },
  {
   "cell_type": "code",
   "execution_count": null,
   "metadata": {},
   "outputs": [],
   "source": []
  }
 ],
 "metadata": {
  "kernelspec": {
   "display_name": "Python 3",
   "language": "python",
   "name": "python3"
  },
  "language_info": {
   "codemirror_mode": {
    "name": "ipython",
    "version": 3
   },
   "file_extension": ".py",
   "mimetype": "text/x-python",
   "name": "python",
   "nbconvert_exporter": "python",
   "pygments_lexer": "ipython3",
   "version": "3.10.11"
  }
 },
 "nbformat": 4,
 "nbformat_minor": 2
}
